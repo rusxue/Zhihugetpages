{
 "cells": [
  {
   "cell_type": "code",
   "execution_count": 1,
   "metadata": {},
   "outputs": [],
   "source": [
    "from random import randint\n",
    "import pickle\n"
   ]
  },
  {
   "cell_type": "code",
   "execution_count": 2,
   "metadata": {},
   "outputs": [],
   "source": [
    "path2=r'D:\\acode\\PYTHON\\project\\知乎文章抓取\\main\\xx.pkl'\n",
    "path3=r'D:\\acode\\PYTHON\\project\\知乎文章抓取\\main\\rr.pkl'"
   ]
  },
  {
   "cell_type": "code",
   "execution_count": 3,
   "metadata": {},
   "outputs": [],
   "source": [
    "def get_random_item(main,laod):\n",
    "    while True:\n",
    "        tp=randint(0,len(main))\n",
    "        if main[tp] not in laod:\n",
    "            break\n",
    "    return tp\n"
   ]
  },
  {
   "cell_type": "code",
   "execution_count": 8,
   "metadata": {},
   "outputs": [
    {
     "name": "stdout",
     "output_type": "stream",
     "text": [
      "https://www.zhihu.com/answer/24873233\n",
      "https://www.zhihu.com/answer/898676982\n",
      "https://www.zhihu.com/answer/2523290643\n",
      "https://www.zhihu.com/answer/229448988\n",
      "https://www.zhihu.com/answer/21484066\n",
      "https://www.zhihu.com/answer/2625334743\n",
      "https://www.zhihu.com/answer/153010339\n",
      "https://www.zhihu.com/answer/48728455\n",
      "https://www.zhihu.com/answer/39075658\n",
      "https://www.zhihu.com/answer/296393717\n",
      "https://www.zhihu.com/answer/38682444\n",
      "https://www.zhihu.com/answer/23613739\n",
      "https://www.zhihu.com/answer/28636187\n",
      "https://www.zhihu.com/answer/22792536\n",
      "https://www.zhihu.com/answer/30277999\n",
      "https://www.zhihu.com/answer/2660740792\n",
      "https://www.zhihu.com/answer/533664409\n",
      "https://www.zhihu.com/answer/72075858\n",
      "https://www.zhihu.com/answer/888603934\n",
      "https://www.zhihu.com/answer/17332669\n"
     ]
    }
   ],
   "source": [
    "with open(path2, 'rb') as save_data:\n",
    "    main=pickle.load(save_data)[0]\n",
    "with open(path3, 'rb') as save_data:\n",
    "    laod=pickle.load(save_data)"
   ]
  },
  {
   "cell_type": "code",
   "execution_count": null,
   "metadata": {},
   "outputs": [],
   "source": [
    "n=20\n",
    "pages=[]\n",
    "for i in range(n):\n",
    "    n_page=main[get_random_item(main,laod)]\n",
    "    pages.append(n_page)\n",
    "    laod.append(n_page)\n",
    "\n",
    "with open(path3, 'wb') as save_data:\n",
    "    pickle.dump(laod,save_data)\n",
    "\n",
    "for i in pages:\n",
    "    print(i)\n"
   ]
  },
  {
   "cell_type": "code",
   "execution_count": 9,
   "metadata": {},
   "outputs": [],
   "source": [
    "\n",
    "with open(path3, 'rb') as save_data:\n",
    "    laod=pickle.load(save_data)"
   ]
  },
  {
   "cell_type": "code",
   "execution_count": null,
   "metadata": {},
   "outputs": [],
   "source": [
    "laod"
   ]
  },
  {
   "cell_type": "code",
   "execution_count": 11,
   "metadata": {},
   "outputs": [
    {
     "data": {
      "text/plain": [
       "60"
      ]
     },
     "execution_count": 11,
     "metadata": {},
     "output_type": "execute_result"
    }
   ],
   "source": [
    "\n",
    "len(laod)"
   ]
  }
 ],
 "metadata": {
  "kernelspec": {
   "display_name": "Python 3.9.5 ('base')",
   "language": "python",
   "name": "python3"
  },
  "language_info": {
   "codemirror_mode": {
    "name": "ipython",
    "version": 3
   },
   "file_extension": ".py",
   "mimetype": "text/x-python",
   "name": "python",
   "nbconvert_exporter": "python",
   "pygments_lexer": "ipython3",
   "version": "3.9.5"
  },
  "orig_nbformat": 4,
  "vscode": {
   "interpreter": {
    "hash": "5179d32cf6ec497baf3f8a3ef987cc77c5d2dc691fdde20a56316522f61a7323"
   }
  }
 },
 "nbformat": 4,
 "nbformat_minor": 2
}
